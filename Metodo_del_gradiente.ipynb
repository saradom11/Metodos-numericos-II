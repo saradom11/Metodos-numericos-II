{
  "nbformat": 4,
  "nbformat_minor": 0,
  "metadata": {
    "colab": {
      "provenance": [],
      "authorship_tag": "ABX9TyMu/Z6S5xqppXGLdHnPEDzX",
      "include_colab_link": true
    },
    "kernelspec": {
      "name": "python3",
      "display_name": "Python 3"
    },
    "language_info": {
      "name": "python"
    }
  },
  "cells": [
    {
      "cell_type": "markdown",
      "metadata": {
        "id": "view-in-github",
        "colab_type": "text"
      },
      "source": [
        "<a href=\"https://colab.research.google.com/github/saradom11/Metodos-numericos-II/blob/main/Metodo_del_gradiente.ipynb\" target=\"_parent\"><img src=\"https://colab.research.google.com/assets/colab-badge.svg\" alt=\"Open In Colab\"/></a>"
      ]
    },
    {
      "cell_type": "code",
      "source": [
        "import sympy as sp\n",
        "\n",
        "# Definimos variables simbólicas\n",
        "x1, x2, alpha = sp.symbols('x1 x2 alpha')\n",
        "\n",
        "# Funciones del ejemplo de clase\n",
        "f1 = x1**2 + x2**2 - 2\n",
        "f2 = x1 * x2 - 1\n",
        "g = f1**2 + f2**2"
      ],
      "metadata": {
        "id": "SDsjoVWYgaZb"
      },
      "execution_count": 15,
      "outputs": []
    },
    {
      "cell_type": "code",
      "source": [
        "# Gradiente g(x_1,x_2)\n",
        "dg_dx1 = sp.diff(g, x1)\n",
        "dg_dx2 = sp.diff(g, x2)\n",
        "\n",
        "# Punto inicial arbitrario (no escojemos 0,0 porque obtenemos el mismo resultado)\n",
        "x0 = {x1: 1.0, x2: 0.0}\n",
        "\n",
        "# Gradiente en x^(0)\n",
        "grad_eval = [ dg_dx1.subs(x0).evalf(),\n",
        "    dg_dx2.subs(x0).evalf() ]\n",
        "\n",
        "print(\" Gradiente en x^(0) = (1, 0):\")\n",
        "print(f\"  ∂g/∂x1 = {grad_eval[0]}\")\n",
        "print(f\"  ∂g/∂x2 = {grad_eval[1]}\")"
      ],
      "metadata": {
        "colab": {
          "base_uri": "https://localhost:8080/"
        },
        "id": "nvlMa6lT9UxJ",
        "outputId": "f043c9d5-927b-4d31-bc67-8bfab47f4360"
      },
      "execution_count": 16,
      "outputs": [
        {
          "output_type": "stream",
          "name": "stdout",
          "text": [
            " Gradiente en x^(0) = (1, 0):\n",
            "  ∂g/∂x1 = -4.00000000000000\n",
            "  ∂g/∂x2 = -2.00000000000000\n"
          ]
        }
      ]
    },
    {
      "cell_type": "code",
      "source": [
        "# Ahora x^(1) = x0 - α * g(x^(0))\n",
        "x1_nueva = x0[x1] - alpha * grad_eval[0]\n",
        "x2_nueva = x0[x2] - alpha * grad_eval[1]\n",
        "\n",
        "# Sustituimos x^(1) en g para obtener h(α) = g(x^(1))\n",
        "f1_nueva = x1_nueva**2 + x2_nueva**2 - 2\n",
        "f2_nueva = x1_nueva * x2_nueva - 1\n",
        "g_nueva = f1_nueva**2 + f2_nueva**2\n",
        "\n",
        "# Resolvemos h'(α) = 0\n",
        "dg_dalpha = sp.diff(g_nueva, alpha)\n",
        "alpha_opt = sp.solve(dg_dalpha, alpha)\n",
        "\n",
        "print(\" Solución de h'(α) = 0:\")\n",
        "print(f\"  α encontrados = {alpha_opt}\")\n",
        "\n",
        "# Tomamos el valor de α real positivo más pequeño\n",
        "alpha_val = [a.evalf() for a in alpha_opt if sp.re(a) > 0]\n",
        "alpha_val = alpha_val[0] if alpha_val else None\n",
        "print(f\"  α a utilizar = {alpha_val}\")"
      ],
      "metadata": {
        "colab": {
          "base_uri": "https://localhost:8080/"
        },
        "id": "glMDGtkQ-WCj",
        "outputId": "e79f82fc-049e-41dc-db9e-4c42224ac064"
      },
      "execution_count": 17,
      "outputs": [
        {
          "output_type": "stream",
          "name": "stdout",
          "text": [
            " Solución de h'(α) = 0:\n",
            "  α encontrados = [-0.500000000000000, -0.185283238659792, 0.116317721418413]\n",
            "  α a utilizar = 0.116317721418413\n"
          ]
        }
      ]
    },
    {
      "cell_type": "code",
      "source": [
        "# Calculamos x^(1)\n",
        "x1_1 = x1_nueva.subs(alpha, alpha_val)\n",
        "x2_1 = x2_nueva.subs(alpha, alpha_val)\n",
        "\n",
        "print(\"\\n Nuevo punto x^(1):\")\n",
        "print(f\"  x1^(1) = {x1_1}\")\n",
        "print(f\"  x2^(1) = {x2_1}\")\n",
        "\n",
        "# Evaluamos g en x^(0) y x^(1)\n",
        "g_x0 = g.subs(x0).evalf()\n",
        "g_x1 = g.subs({x1: x1_1, x2: x2_1}).evalf()\n",
        "\n",
        "print(\"\\n Evaluación de g(x):\")\n",
        "print(f\"  g(x^(0)) = {g_x0}\")\n",
        "print(f\"  g(x^(1)) = {g_x1}\")\n"
      ],
      "metadata": {
        "id": "7LLQ0ixr-f0W",
        "colab": {
          "base_uri": "https://localhost:8080/"
        },
        "outputId": "1eda07b8-239c-45ab-dfa5-7f4baea49afa"
      },
      "execution_count": 18,
      "outputs": [
        {
          "output_type": "stream",
          "name": "stdout",
          "text": [
            "\n",
            " Nuevo punto x^(1):\n",
            "  x1^(1) = 1.46527088567365\n",
            "  x2^(1) = 0.232635442836826\n",
            "\n",
            " Evaluación de g(x):\n",
            "  g(x^(0)) = 2.00000000000000\n",
            "  g(x^(1)) = 0.474903663323143\n"
          ]
        }
      ]
    }
  ]
}